{
 "cells": [
  {
   "cell_type": "markdown",
   "metadata": {},
   "source": [
    "# Import Libraries"
   ]
  },
  {
   "cell_type": "markdown",
   "metadata": {},
   "source": [
    "## Libraries"
   ]
  },
  {
   "cell_type": "code",
   "execution_count": 1,
   "metadata": {},
   "outputs": [],
   "source": [
    "# data manipulation\n",
    "import pandas as pd\n",
    "import numpy as np\n",
    "import re\n",
    "\n",
    "# visualization\n",
    "import matplotlib.pyplot as plt\n",
    "import seaborn as sns"
   ]
  },
  {
   "cell_type": "markdown",
   "metadata": {},
   "source": [
    "## Functions"
   ]
  },
  {
   "cell_type": "code",
   "execution_count": 2,
   "metadata": {},
   "outputs": [],
   "source": [
    "# overview\n",
    "def check_overview(df):\n",
    "    '''\n",
    "    df_overview adalah fungsi yang digunakan untuk melihat informasi seputar dataset.\n",
    "\n",
    "    Argumen:\n",
    "    df = dataset yang digunakan.\n",
    "\n",
    "    Output:\n",
    "    Informasi overall dataset, missing value, duplicated value dan jumlah unique value setiap kolom.\n",
    "    '''\n",
    "    # df overview\n",
    "    print(df.info())\n",
    "\n",
    "    # cek missing value\n",
    "    print(f\"\\nmissing values: {round(((df.isna().sum().sum())/len(df))*100, 2)}% \\n{df.isna().sum()[df.isna().sum()>0]}\")\n",
    "\n",
    "    # cek duplicated value\n",
    "    print(f\"\\nduplicated values: {round(((df.duplicated().sum())/len(df))*100,2)}% \\n{df.duplicated().sum()}\\n\")\n",
    "\n",
    "    # cek nama kolom & jumlah unique value\n",
    "    for col in df:\n",
    "        print(f'{col}-#nunique: {df[col].nunique()}')\n",
    "\n",
    "# check skill in job description\n",
    "def check_skills(description, skills):\n",
    "    # convert job_description to str if its float\n",
    "    if isinstance(description, float):\n",
    "        description = str(description)\n",
    "    # convert description to lowercase\n",
    "    description_lower = description.lower()\n",
    "    # initialize empty list to store skills\n",
    "    found_skills = []\n",
    "\n",
    "    # loop search for skills\n",
    "    for skill in skills:\n",
    "        # convert skill to lower & escape any special character\n",
    "        skill_pattern = re.escape(skill.lower())\n",
    "        # search skill as whole word\n",
    "        pattern = r'\\b{}\\b'.format(skill_pattern)\n",
    "        # search skill pattern in description\n",
    "        if re.search(pattern, description_lower):\n",
    "            # add skill to the list\n",
    "            found_skills.append(skill)\n",
    "\n",
    "    # return unknown if no skills are found\n",
    "    return found_skills if found_skills else ['Unknown']\n",
    "\n",
    "# create new column\n",
    "def add_columns(df, skills, column_name):\n",
    "    # apply check_skills function\n",
    "    df[column_name] = df['job_description'].apply(lambda x: check_skills(x, skills))\n",
    "    return df\n",
    "\n",
    "# skills  to check\n",
    "list_skills = [\n",
    "    # Programming Languages\n",
    "    'SQL', 'Python', 'R', 'JavaScript', 'C#', 'C++', 'Scala', 'Julia', 'MATLAB', 'Bash', 'Go', 'Ruby', 'Perl',\n",
    "    \n",
    "    # Database\n",
    "    'MySQL', 'Postgres', 'MongoDB', 'NoSQL', 'Cassandra', 'Snowflake', 'Redshift', 'ElasticSearch', 'SQLite', 'Oracle', \n",
    "    'Neo4j', 'Firebase Realtime Database', 'Amazon DynamoDB',\n",
    "\n",
    "    # Cloud Platforms\n",
    "    'Azure', 'AWS', 'GCP', 'Terraform', 'Ansible', 'IBM Cloud', 'Alibaba Cloud', 'Heroku', 'DigitalOcean', 'google cloud platform',\n",
    "\n",
    "    # Data Engineering Tools\n",
    "    'Hadoop', 'Spark', 'Hive', 'MapReduce', 'Kafka', 'Airflow', 'Talend', 'DBT', 'Flink', 'NiFi', 'Presto',\n",
    "    'Data Pipeline', 'ETL', 'Apache Beam', 'AWS Glue', 'Google Dataflow', 'Databricks', 'BigQuery', 'Amazon Redshift',\n",
    "\n",
    "    # Machine Learning Tools\n",
    "    'Machine Learning', 'TensorFlow', 'Keras', 'PyTorch', 'scikit-learn', 'XGBoost', 'LightGBM', 'CatBoost', \n",
    "    'H2O.ai', 'spaCy', 'NLTK', 'OpenCV', 'Deep Learning', 'Hugging Face Transformers', 'Stanford NLP',\n",
    "    'SAS', 'Orange3', 'AutoML', 'Decision Trees', 'Random Forest', 'Gradient Boosting Machines', 'Hyperparameter Tuning',\n",
    "    'Bayesian Optimization', 'Reinforcement Learning', 'GANs', 'RNN', 'CNN',\n",
    "\n",
    "    # Data Analysis & Visualization\n",
    "    'pandas', 'NumPy', 'Excel', 'Tableau', 'Power BI', 'Looker', 'Matplotlib', 'Seaborn', 'ggplot2', 'D3.js', \n",
    "    'Plotly', 'Bokeh', 'Altair', 'Dash', 'SAP Analytics Cloud', 'QlikView', 'Google Data Studio', 'Kibana',\n",
    "\n",
    "    # MLOps & Deployment\n",
    "    'CI/CD', 'MLOps', 'Docker', 'Kubernetes', 'WandB', 'Neptune', 'MLflow', 'TensorFlow Serving', 'TorchServe',\n",
    "    'Kubeflow', 'Seldon Core', 'FastAPI', 'Flask', 'Streamlit', 'Gradio', 'Model Deployment', 'Version Control',\n",
    "\n",
    "    # Monitoring & Infrastructure\n",
    "    'Prometheus', 'Grafana', 'ERP', 'Datadog', 'New Relic', 'Splunk', 'CloudWatch', 'Nagios', 'Zabbix',\n",
    "\n",
    "    # Big Data\n",
    "    'Big Data', 'Spark', 'Hadoop', 'Pig', 'Impala', 'HBase', 'Storm', 'Druid', 'Cloudera', 'AWS EMR',\n",
    "    \n",
    "    # Experimentation & Workflow\n",
    "    'Git', 'GitHub', 'GitLab', 'Bitbucket', 'JIRA', 'Trello', 'RapidMiner', 'Alteryx', 'Knime', 'Experiment Tracking',\n",
    "    'A/B Testing', 'Version Control', 'Kanban', 'Confluence',\n",
    "\n",
    "    # Statistik & Domain Tools\n",
    "    'SPSS', 'Project Management', 'Statistics', 'Time Series Analysis', 'Forecasting', 'Bayesian Inference',\n",
    "    'Econometrics', 'Data Wrangling', 'Data Cleaning', 'Feature Engineering', 'Dimensionality Reduction', \n",
    "    'PCA', 't-SNE', 'Data Normalization', 'Outlier Detection', 'Hypothesis Testing', 'ANOVA',\n",
    "\n",
    "    # Soft Skills\n",
    "    'Communication', 'Storytelling with Data', 'Domain Knowledge', 'Critical Thinking', 'Problem Solving',\n",
    "    'Collaboration', 'Stakeholder Management', 'Presentation Skills'\n",
    "]"
   ]
  },
  {
   "cell_type": "markdown",
   "metadata": {},
   "source": [
    "# Load Data"
   ]
  },
  {
   "cell_type": "markdown",
   "metadata": {},
   "source": [
    "## Linkedin"
   ]
  },
  {
   "cell_type": "code",
   "execution_count": 3,
   "metadata": {},
   "outputs": [
    {
     "data": {
      "text/html": [
       "<div>\n",
       "<style scoped>\n",
       "    .dataframe tbody tr th:only-of-type {\n",
       "        vertical-align: middle;\n",
       "    }\n",
       "\n",
       "    .dataframe tbody tr th {\n",
       "        vertical-align: top;\n",
       "    }\n",
       "\n",
       "    .dataframe thead th {\n",
       "        text-align: right;\n",
       "    }\n",
       "</style>\n",
       "<table border=\"1\" class=\"dataframe\">\n",
       "  <thead>\n",
       "    <tr style=\"text-align: right;\">\n",
       "      <th></th>\n",
       "      <th>Job Title</th>\n",
       "      <th>Company Name</th>\n",
       "      <th>Location</th>\n",
       "      <th>Description</th>\n",
       "      <th>Job Link</th>\n",
       "    </tr>\n",
       "  </thead>\n",
       "  <tbody>\n",
       "    <tr>\n",
       "      <th>0</th>\n",
       "      <td>System Analyst</td>\n",
       "      <td>TOG Indonesia</td>\n",
       "      <td>Yogyakarta, Indonesia (On-site)</td>\n",
       "      <td>Responsibilities\\nDeploy, maintain, and troubl...</td>\n",
       "      <td>https://www.linkedin.com/jobs/view/4076765593/...</td>\n",
       "    </tr>\n",
       "    <tr>\n",
       "      <th>1</th>\n",
       "      <td>Data Analyst</td>\n",
       "      <td>TUKR</td>\n",
       "      <td>Jakarta, Indonesia (On-site)</td>\n",
       "      <td>TUKR is a rapidly expanding renewable commodit...</td>\n",
       "      <td>https://www.linkedin.com/jobs/view/4080741810/...</td>\n",
       "    </tr>\n",
       "    <tr>\n",
       "      <th>2</th>\n",
       "      <td>Supply Chain Supervisor</td>\n",
       "      <td>SEVEN Retail Group</td>\n",
       "      <td>Jakarta, Indonesia (On-site)</td>\n",
       "      <td>Job Responsibility:\\nCreate the company's supp...</td>\n",
       "      <td>https://www.linkedin.com/jobs/view/4089476927/...</td>\n",
       "    </tr>\n",
       "    <tr>\n",
       "      <th>3</th>\n",
       "      <td>Data Scientist</td>\n",
       "      <td>Provenir</td>\n",
       "      <td>Jakarta, Indonesia (Hybrid)</td>\n",
       "      <td>Who We Are \\n\\nProvenir is a global fintech co...</td>\n",
       "      <td>https://www.linkedin.com/jobs/view/4076157340/...</td>\n",
       "    </tr>\n",
       "    <tr>\n",
       "      <th>4</th>\n",
       "      <td>Head of Product (Data)</td>\n",
       "      <td>HTC Global Services</td>\n",
       "      <td>Central Jakarta, Jakarta, Indonesia (On-site)</td>\n",
       "      <td>Formal Education and Work Experience :\\nBachel...</td>\n",
       "      <td>https://www.linkedin.com/jobs/view/4099353940/...</td>\n",
       "    </tr>\n",
       "  </tbody>\n",
       "</table>\n",
       "</div>"
      ],
      "text/plain": [
       "                 Job Title         Company Name  \\\n",
       "0           System Analyst        TOG Indonesia   \n",
       "1             Data Analyst                 TUKR   \n",
       "2  Supply Chain Supervisor   SEVEN Retail Group   \n",
       "3           Data Scientist             Provenir   \n",
       "4   Head of Product (Data)  HTC Global Services   \n",
       "\n",
       "                                        Location  \\\n",
       "0                Yogyakarta, Indonesia (On-site)   \n",
       "1                   Jakarta, Indonesia (On-site)   \n",
       "2                   Jakarta, Indonesia (On-site)   \n",
       "3                    Jakarta, Indonesia (Hybrid)   \n",
       "4  Central Jakarta, Jakarta, Indonesia (On-site)   \n",
       "\n",
       "                                         Description  \\\n",
       "0  Responsibilities\\nDeploy, maintain, and troubl...   \n",
       "1  TUKR is a rapidly expanding renewable commodit...   \n",
       "2  Job Responsibility:\\nCreate the company's supp...   \n",
       "3  Who We Are \\n\\nProvenir is a global fintech co...   \n",
       "4  Formal Education and Work Experience :\\nBachel...   \n",
       "\n",
       "                                            Job Link  \n",
       "0  https://www.linkedin.com/jobs/view/4076765593/...  \n",
       "1  https://www.linkedin.com/jobs/view/4080741810/...  \n",
       "2  https://www.linkedin.com/jobs/view/4089476927/...  \n",
       "3  https://www.linkedin.com/jobs/view/4076157340/...  \n",
       "4  https://www.linkedin.com/jobs/view/4099353940/...  "
      ]
     },
     "execution_count": 3,
     "metadata": {},
     "output_type": "execute_result"
    }
   ],
   "source": [
    "# load linkedin\n",
    "linkedin = pd.read_excel('linkedin.xlsx')\n",
    "linkedin.head()"
   ]
  },
  {
   "cell_type": "code",
   "execution_count": 4,
   "metadata": {},
   "outputs": [
    {
     "name": "stdout",
     "output_type": "stream",
     "text": [
      "<class 'pandas.core.frame.DataFrame'>\n",
      "RangeIndex: 386 entries, 0 to 385\n",
      "Data columns (total 5 columns):\n",
      " #   Column        Non-Null Count  Dtype \n",
      "---  ------        --------------  ----- \n",
      " 0   Job Title     386 non-null    object\n",
      " 1   Company Name  386 non-null    object\n",
      " 2   Location      386 non-null    object\n",
      " 3   Description   377 non-null    object\n",
      " 4   Job Link      386 non-null    object\n",
      "dtypes: object(5)\n",
      "memory usage: 15.2+ KB\n",
      "None\n",
      "\n",
      "missing values: 2.33% \n",
      "Description    9\n",
      "dtype: int64\n",
      "\n",
      "duplicated values: 1.81% \n",
      "7\n",
      "\n",
      "Job Title-#nunique: 266\n",
      "Company Name-#nunique: 152\n",
      "Location-#nunique: 46\n",
      "Description-#nunique: 279\n",
      "Job Link-#nunique: 379\n"
     ]
    }
   ],
   "source": [
    "# linkedin overview\n",
    "check_overview(linkedin)"
   ]
  },
  {
   "cell_type": "markdown",
   "metadata": {},
   "source": [
    "## Jobstreet"
   ]
  },
  {
   "cell_type": "code",
   "execution_count": 5,
   "metadata": {},
   "outputs": [
    {
     "data": {
      "text/html": [
       "<div>\n",
       "<style scoped>\n",
       "    .dataframe tbody tr th:only-of-type {\n",
       "        vertical-align: middle;\n",
       "    }\n",
       "\n",
       "    .dataframe tbody tr th {\n",
       "        vertical-align: top;\n",
       "    }\n",
       "\n",
       "    .dataframe thead th {\n",
       "        text-align: right;\n",
       "    }\n",
       "</style>\n",
       "<table border=\"1\" class=\"dataframe\">\n",
       "  <thead>\n",
       "    <tr style=\"text-align: right;\">\n",
       "      <th></th>\n",
       "      <th>Job Title</th>\n",
       "      <th>Company</th>\n",
       "      <th>Job Description</th>\n",
       "      <th>Location</th>\n",
       "      <th>Link</th>\n",
       "    </tr>\n",
       "  </thead>\n",
       "  <tbody>\n",
       "    <tr>\n",
       "      <th>0</th>\n",
       "      <td>Data Analyst</td>\n",
       "      <td>PT Indocater</td>\n",
       "      <td>RequirementBachelor degree of any majorExperie...</td>\n",
       "      <td>Jakarta Barat, Jakarta Raya</td>\n",
       "      <td>https://www.jobstreet.co.id/id/job/80800585?ty...</td>\n",
       "    </tr>\n",
       "    <tr>\n",
       "      <th>1</th>\n",
       "      <td>Industrial Data Scientist</td>\n",
       "      <td>PT. Citradimensi Arthali (\"CEDEA\")</td>\n",
       "      <td>We are seeking a highly skilled Industrial Dat...</td>\n",
       "      <td>Jakarta Pusat, Jakarta Raya</td>\n",
       "      <td>https://www.jobstreet.co.id/id/job/80795243?ty...</td>\n",
       "    </tr>\n",
       "    <tr>\n",
       "      <th>2</th>\n",
       "      <td>Data Scientist</td>\n",
       "      <td>Geniebook Pte. Ltd.</td>\n",
       "      <td>Role:We are looking for a Data Scientist that ...</td>\n",
       "      <td>Surabaya, Jawa Timur</td>\n",
       "      <td>https://www.jobstreet.co.id/id/job/80628139?ty...</td>\n",
       "    </tr>\n",
       "    <tr>\n",
       "      <th>3</th>\n",
       "      <td>Data Scientist</td>\n",
       "      <td>PT SMART,Tbk</td>\n",
       "      <td>Job Description:Design, gather, research, anal...</td>\n",
       "      <td>Jakarta Raya</td>\n",
       "      <td>https://www.jobstreet.co.id/id/job/80795482?ty...</td>\n",
       "    </tr>\n",
       "    <tr>\n",
       "      <th>4</th>\n",
       "      <td>Data Scientist</td>\n",
       "      <td>PT Reycom Document Solusi</td>\n",
       "      <td>Job description :Collecting, cleaning, and org...</td>\n",
       "      <td>Jakarta Pusat, Jakarta Raya</td>\n",
       "      <td>https://www.jobstreet.co.id/id/job/80697260?ty...</td>\n",
       "    </tr>\n",
       "  </tbody>\n",
       "</table>\n",
       "</div>"
      ],
      "text/plain": [
       "                   Job Title                             Company  \\\n",
       "0               Data Analyst                        PT Indocater   \n",
       "1  Industrial Data Scientist  PT. Citradimensi Arthali (\"CEDEA\")   \n",
       "2             Data Scientist                 Geniebook Pte. Ltd.   \n",
       "3             Data Scientist                        PT SMART,Tbk   \n",
       "4             Data Scientist           PT Reycom Document Solusi   \n",
       "\n",
       "                                     Job Description  \\\n",
       "0  RequirementBachelor degree of any majorExperie...   \n",
       "1  We are seeking a highly skilled Industrial Dat...   \n",
       "2  Role:We are looking for a Data Scientist that ...   \n",
       "3  Job Description:Design, gather, research, anal...   \n",
       "4  Job description :Collecting, cleaning, and org...   \n",
       "\n",
       "                      Location  \\\n",
       "0  Jakarta Barat, Jakarta Raya   \n",
       "1  Jakarta Pusat, Jakarta Raya   \n",
       "2         Surabaya, Jawa Timur   \n",
       "3                 Jakarta Raya   \n",
       "4  Jakarta Pusat, Jakarta Raya   \n",
       "\n",
       "                                                Link  \n",
       "0  https://www.jobstreet.co.id/id/job/80800585?ty...  \n",
       "1  https://www.jobstreet.co.id/id/job/80795243?ty...  \n",
       "2  https://www.jobstreet.co.id/id/job/80628139?ty...  \n",
       "3  https://www.jobstreet.co.id/id/job/80795482?ty...  \n",
       "4  https://www.jobstreet.co.id/id/job/80697260?ty...  "
      ]
     },
     "execution_count": 5,
     "metadata": {},
     "output_type": "execute_result"
    }
   ],
   "source": [
    "# load jobstreet\n",
    "jobstreet = pd.read_csv('jobstreet.csv')\n",
    "jobstreet.head()"
   ]
  },
  {
   "cell_type": "code",
   "execution_count": 6,
   "metadata": {},
   "outputs": [
    {
     "name": "stdout",
     "output_type": "stream",
     "text": [
      "<class 'pandas.core.frame.DataFrame'>\n",
      "RangeIndex: 287 entries, 0 to 286\n",
      "Data columns (total 5 columns):\n",
      " #   Column           Non-Null Count  Dtype \n",
      "---  ------           --------------  ----- \n",
      " 0   Job Title        287 non-null    object\n",
      " 1   Company          287 non-null    object\n",
      " 2   Job Description  287 non-null    object\n",
      " 3   Location         287 non-null    object\n",
      " 4   Link             287 non-null    object\n",
      "dtypes: object(5)\n",
      "memory usage: 11.3+ KB\n",
      "None\n",
      "\n",
      "missing values: 0.0% \n",
      "Series([], dtype: int64)\n",
      "\n",
      "duplicated values: 25.44% \n",
      "73\n",
      "\n",
      "Job Title-#nunique: 142\n",
      "Company-#nunique: 154\n",
      "Job Description-#nunique: 194\n",
      "Location-#nunique: 49\n",
      "Link-#nunique: 214\n"
     ]
    }
   ],
   "source": [
    "# jobstreet overview\n",
    "check_overview(jobstreet)"
   ]
  },
  {
   "cell_type": "markdown",
   "metadata": {},
   "source": [
    "# Feature Engineering"
   ]
  },
  {
   "cell_type": "markdown",
   "metadata": {},
   "source": [
    "## Linkedin"
   ]
  },
  {
   "cell_type": "code",
   "execution_count": 7,
   "metadata": {},
   "outputs": [
    {
     "data": {
      "text/plain": [
       "Index(['Job Title', 'Company Name', 'Location', 'Description', 'Job Link'], dtype='object')"
      ]
     },
     "execution_count": 7,
     "metadata": {},
     "output_type": "execute_result"
    }
   ],
   "source": [
    "# show column name\n",
    "linkedin.columns"
   ]
  },
  {
   "cell_type": "code",
   "execution_count": 8,
   "metadata": {},
   "outputs": [
    {
     "data": {
      "text/plain": [
       "Index(['job_title', 'company_name', 'location', 'job_description', 'job_link'], dtype='object')"
      ]
     },
     "execution_count": 8,
     "metadata": {},
     "output_type": "execute_result"
    }
   ],
   "source": [
    "# change column name\n",
    "linkedin.rename(columns={'Description' : 'job_description'}, inplace=True)\n",
    "\n",
    "# change format column name\n",
    "linkedin.rename(columns=lambda x: x.replace(' ', '_').lower(), inplace=True)\n",
    "\n",
    "# check\n",
    "linkedin.columns"
   ]
  },
  {
   "cell_type": "markdown",
   "metadata": {},
   "source": [
    "## Jobstreet"
   ]
  },
  {
   "cell_type": "code",
   "execution_count": 9,
   "metadata": {},
   "outputs": [
    {
     "data": {
      "text/plain": [
       "Index(['Job Title', 'Company', 'Job Description', 'Location', 'Link'], dtype='object')"
      ]
     },
     "execution_count": 9,
     "metadata": {},
     "output_type": "execute_result"
    }
   ],
   "source": [
    "# show column name\n",
    "jobstreet.columns"
   ]
  },
  {
   "cell_type": "code",
   "execution_count": 10,
   "metadata": {},
   "outputs": [
    {
     "data": {
      "text/plain": [
       "Index(['job_title', 'company_name', 'location', 'job_description', 'job_link'], dtype='object')"
      ]
     },
     "execution_count": 10,
     "metadata": {},
     "output_type": "execute_result"
    }
   ],
   "source": [
    "# change column name\n",
    "jobstreet.rename(columns={'Company' : 'company_name',\n",
    "                          'Link' : 'job_link'}, inplace=True)\n",
    "\n",
    "# change format column name\n",
    "jobstreet.rename(columns=lambda x: x.replace(' ', '_').lower(), inplace=True)\n",
    "\n",
    "# reindex column\n",
    "# order\n",
    "order = ['job_title', 'company_name', 'location', 'job_description', 'job_link']\n",
    "# reindex\n",
    "jobstreet = jobstreet.reindex(columns=order)\n",
    "\n",
    "# check\n",
    "jobstreet.columns"
   ]
  },
  {
   "cell_type": "markdown",
   "metadata": {},
   "source": [
    "## Join Table"
   ]
  },
  {
   "cell_type": "code",
   "execution_count": 11,
   "metadata": {},
   "outputs": [
    {
     "data": {
      "text/html": [
       "<div>\n",
       "<style scoped>\n",
       "    .dataframe tbody tr th:only-of-type {\n",
       "        vertical-align: middle;\n",
       "    }\n",
       "\n",
       "    .dataframe tbody tr th {\n",
       "        vertical-align: top;\n",
       "    }\n",
       "\n",
       "    .dataframe thead th {\n",
       "        text-align: right;\n",
       "    }\n",
       "</style>\n",
       "<table border=\"1\" class=\"dataframe\">\n",
       "  <thead>\n",
       "    <tr style=\"text-align: right;\">\n",
       "      <th></th>\n",
       "      <th>job_title</th>\n",
       "      <th>company_name</th>\n",
       "      <th>location</th>\n",
       "      <th>job_description</th>\n",
       "      <th>job_link</th>\n",
       "    </tr>\n",
       "  </thead>\n",
       "  <tbody>\n",
       "    <tr>\n",
       "      <th>522</th>\n",
       "      <td>Data Analyst</td>\n",
       "      <td>Company Confidential</td>\n",
       "      <td>Denpasar, Bali</td>\n",
       "      <td>Deskripsi Pekerjaan- Merancang dan memelihara ...</td>\n",
       "      <td>https://www.jobstreet.co.id/id/job/76620924?ty...</td>\n",
       "    </tr>\n",
       "    <tr>\n",
       "      <th>513</th>\n",
       "      <td>Senior Data Analyst</td>\n",
       "      <td>PT Aplikasi Karya Anak Bangsa (GO-JEK Indonesia)</td>\n",
       "      <td>Jakarta Raya</td>\n",
       "      <td>Create business impact by working on strategic...</td>\n",
       "      <td>https://www.jobstreet.co.id/id/job/79585053?ty...</td>\n",
       "    </tr>\n",
       "    <tr>\n",
       "      <th>194</th>\n",
       "      <td>Data Analyst (Bangkok Based, relocation provided)</td>\n",
       "      <td>Agoda</td>\n",
       "      <td>Bali, Indonesia</td>\n",
       "      <td>About Agoda\\n\\nAgoda is an online travel booki...</td>\n",
       "      <td>https://www.linkedin.com/jobs/view/4021556349/...</td>\n",
       "    </tr>\n",
       "    <tr>\n",
       "      <th>583</th>\n",
       "      <td>Lead Product Manager - New Business</td>\n",
       "      <td>PT Fliptech Lentera Inspirasi Pertiwi</td>\n",
       "      <td>Jakarta Raya</td>\n",
       "      <td>We are looking for Lead Product Manager for Ne...</td>\n",
       "      <td>https://www.jobstreet.co.id/id/job/80676455?ty...</td>\n",
       "    </tr>\n",
       "    <tr>\n",
       "      <th>643</th>\n",
       "      <td>Data Security and Privacy Officer</td>\n",
       "      <td>PT Mid Solusi Nusantara (MEKARI)</td>\n",
       "      <td>Jakarta Raya</td>\n",
       "      <td>Mekari is Indonesia's no. 1 Software-as-a-Serv...</td>\n",
       "      <td>https://www.jobstreet.co.id/id/job/79686682?ty...</td>\n",
       "    </tr>\n",
       "  </tbody>\n",
       "</table>\n",
       "</div>"
      ],
      "text/plain": [
       "                                             job_title  \\\n",
       "522                                       Data Analyst   \n",
       "513                                Senior Data Analyst   \n",
       "194  Data Analyst (Bangkok Based, relocation provided)   \n",
       "583                Lead Product Manager - New Business   \n",
       "643                  Data Security and Privacy Officer   \n",
       "\n",
       "                                         company_name         location  \\\n",
       "522                              Company Confidential   Denpasar, Bali   \n",
       "513  PT Aplikasi Karya Anak Bangsa (GO-JEK Indonesia)     Jakarta Raya   \n",
       "194                                             Agoda  Bali, Indonesia   \n",
       "583             PT Fliptech Lentera Inspirasi Pertiwi     Jakarta Raya   \n",
       "643                  PT Mid Solusi Nusantara (MEKARI)     Jakarta Raya   \n",
       "\n",
       "                                       job_description  \\\n",
       "522  Deskripsi Pekerjaan- Merancang dan memelihara ...   \n",
       "513  Create business impact by working on strategic...   \n",
       "194  About Agoda\\n\\nAgoda is an online travel booki...   \n",
       "583  We are looking for Lead Product Manager for Ne...   \n",
       "643  Mekari is Indonesia's no. 1 Software-as-a-Serv...   \n",
       "\n",
       "                                              job_link  \n",
       "522  https://www.jobstreet.co.id/id/job/76620924?ty...  \n",
       "513  https://www.jobstreet.co.id/id/job/79585053?ty...  \n",
       "194  https://www.linkedin.com/jobs/view/4021556349/...  \n",
       "583  https://www.jobstreet.co.id/id/job/80676455?ty...  \n",
       "643  https://www.jobstreet.co.id/id/job/79686682?ty...  "
      ]
     },
     "execution_count": 11,
     "metadata": {},
     "output_type": "execute_result"
    }
   ],
   "source": [
    "# merge linkedin & jobstreet\n",
    "job = pd.concat([linkedin, jobstreet], ignore_index=True)\n",
    "\n",
    "# overview\n",
    "job.sample(5)"
   ]
  },
  {
   "cell_type": "code",
   "execution_count": 12,
   "metadata": {},
   "outputs": [
    {
     "name": "stdout",
     "output_type": "stream",
     "text": [
      "<class 'pandas.core.frame.DataFrame'>\n",
      "RangeIndex: 673 entries, 0 to 672\n",
      "Data columns (total 5 columns):\n",
      " #   Column           Non-Null Count  Dtype \n",
      "---  ------           --------------  ----- \n",
      " 0   job_title        673 non-null    object\n",
      " 1   company_name     673 non-null    object\n",
      " 2   location         673 non-null    object\n",
      " 3   job_description  664 non-null    object\n",
      " 4   job_link         673 non-null    object\n",
      "dtypes: object(5)\n",
      "memory usage: 26.4+ KB\n",
      "None\n",
      "\n",
      "missing values: 1.34% \n",
      "job_description    9\n",
      "dtype: int64\n",
      "\n",
      "duplicated values: 11.89% \n",
      "80\n",
      "\n",
      "job_title-#nunique: 401\n",
      "company_name-#nunique: 302\n",
      "location-#nunique: 95\n",
      "job_description-#nunique: 473\n",
      "job_link-#nunique: 593\n"
     ]
    }
   ],
   "source": [
    "# overview\n",
    "check_overview(job)"
   ]
  },
  {
   "cell_type": "markdown",
   "metadata": {},
   "source": [
    "## Cleaning"
   ]
  },
  {
   "cell_type": "markdown",
   "metadata": {},
   "source": [
    "### Handling Duplicate"
   ]
  },
  {
   "cell_type": "code",
   "execution_count": 13,
   "metadata": {},
   "outputs": [
    {
     "data": {
      "text/plain": [
       "0"
      ]
     },
     "execution_count": 13,
     "metadata": {},
     "output_type": "execute_result"
    }
   ],
   "source": [
    "# drop duplicate\n",
    "job.drop_duplicates(keep='first', inplace=True)\n",
    "\n",
    "# check\n",
    "job.duplicated().sum()"
   ]
  },
  {
   "cell_type": "markdown",
   "metadata": {},
   "source": [
    "### Handling Missing Value"
   ]
  },
  {
   "cell_type": "code",
   "execution_count": 14,
   "metadata": {},
   "outputs": [
    {
     "data": {
      "text/plain": [
       "0"
      ]
     },
     "execution_count": 14,
     "metadata": {},
     "output_type": "execute_result"
    }
   ],
   "source": [
    "# drop missing value\n",
    "job.dropna(inplace=True)\n",
    "\n",
    "# check\n",
    "job.isna().sum().sum()"
   ]
  },
  {
   "cell_type": "markdown",
   "metadata": {},
   "source": [
    "### White Space"
   ]
  },
  {
   "cell_type": "code",
   "execution_count": 15,
   "metadata": {},
   "outputs": [
    {
     "name": "stderr",
     "output_type": "stream",
     "text": [
      "C:\\Users\\Fadhiil Dzaki\\AppData\\Local\\Temp\\ipykernel_3616\\1955353001.py:8: FutureWarning: DataFrame.applymap has been deprecated. Use DataFrame.map instead.\n",
      "  job = job.applymap(lambda x: x.strip() if isinstance(x, str) else x)\n"
     ]
    },
    {
     "data": {
      "text/html": [
       "<div>\n",
       "<style scoped>\n",
       "    .dataframe tbody tr th:only-of-type {\n",
       "        vertical-align: middle;\n",
       "    }\n",
       "\n",
       "    .dataframe tbody tr th {\n",
       "        vertical-align: top;\n",
       "    }\n",
       "\n",
       "    .dataframe thead th {\n",
       "        text-align: right;\n",
       "    }\n",
       "</style>\n",
       "<table border=\"1\" class=\"dataframe\">\n",
       "  <thead>\n",
       "    <tr style=\"text-align: right;\">\n",
       "      <th></th>\n",
       "      <th>job_title</th>\n",
       "      <th>company_name</th>\n",
       "      <th>location</th>\n",
       "      <th>job_description</th>\n",
       "      <th>job_link</th>\n",
       "    </tr>\n",
       "  </thead>\n",
       "  <tbody>\n",
       "    <tr>\n",
       "      <th>0</th>\n",
       "      <td>System Analyst</td>\n",
       "      <td>TOG Indonesia</td>\n",
       "      <td>Yogyakarta, Indonesia (On-site)</td>\n",
       "      <td>Responsibilities Deploy, maintain, and trouble...</td>\n",
       "      <td>https://www.linkedin.com/jobs/view/4076765593/...</td>\n",
       "    </tr>\n",
       "    <tr>\n",
       "      <th>1</th>\n",
       "      <td>Data Analyst</td>\n",
       "      <td>TUKR</td>\n",
       "      <td>Jakarta, Indonesia (On-site)</td>\n",
       "      <td>TUKR is a rapidly expanding renewable commodit...</td>\n",
       "      <td>https://www.linkedin.com/jobs/view/4080741810/...</td>\n",
       "    </tr>\n",
       "    <tr>\n",
       "      <th>2</th>\n",
       "      <td>Supply Chain Supervisor</td>\n",
       "      <td>SEVEN Retail Group</td>\n",
       "      <td>Jakarta, Indonesia (On-site)</td>\n",
       "      <td>Job Responsibility: Create the company's suppl...</td>\n",
       "      <td>https://www.linkedin.com/jobs/view/4089476927/...</td>\n",
       "    </tr>\n",
       "    <tr>\n",
       "      <th>3</th>\n",
       "      <td>Data Scientist</td>\n",
       "      <td>Provenir</td>\n",
       "      <td>Jakarta, Indonesia (Hybrid)</td>\n",
       "      <td>Who We Are  Provenir is a global fintech compa...</td>\n",
       "      <td>https://www.linkedin.com/jobs/view/4076157340/...</td>\n",
       "    </tr>\n",
       "    <tr>\n",
       "      <th>4</th>\n",
       "      <td>Head of Product (Data)</td>\n",
       "      <td>HTC Global Services</td>\n",
       "      <td>Central Jakarta, Jakarta, Indonesia (On-site)</td>\n",
       "      <td>Formal Education and Work Experience : Bachelo...</td>\n",
       "      <td>https://www.linkedin.com/jobs/view/4099353940/...</td>\n",
       "    </tr>\n",
       "  </tbody>\n",
       "</table>\n",
       "</div>"
      ],
      "text/plain": [
       "                 job_title         company_name  \\\n",
       "0           System Analyst        TOG Indonesia   \n",
       "1             Data Analyst                 TUKR   \n",
       "2  Supply Chain Supervisor   SEVEN Retail Group   \n",
       "3           Data Scientist             Provenir   \n",
       "4   Head of Product (Data)  HTC Global Services   \n",
       "\n",
       "                                        location  \\\n",
       "0                Yogyakarta, Indonesia (On-site)   \n",
       "1                   Jakarta, Indonesia (On-site)   \n",
       "2                   Jakarta, Indonesia (On-site)   \n",
       "3                    Jakarta, Indonesia (Hybrid)   \n",
       "4  Central Jakarta, Jakarta, Indonesia (On-site)   \n",
       "\n",
       "                                     job_description  \\\n",
       "0  Responsibilities Deploy, maintain, and trouble...   \n",
       "1  TUKR is a rapidly expanding renewable commodit...   \n",
       "2  Job Responsibility: Create the company's suppl...   \n",
       "3  Who We Are  Provenir is a global fintech compa...   \n",
       "4  Formal Education and Work Experience : Bachelo...   \n",
       "\n",
       "                                            job_link  \n",
       "0  https://www.linkedin.com/jobs/view/4076765593/...  \n",
       "1  https://www.linkedin.com/jobs/view/4080741810/...  \n",
       "2  https://www.linkedin.com/jobs/view/4089476927/...  \n",
       "3  https://www.linkedin.com/jobs/view/4076157340/...  \n",
       "4  https://www.linkedin.com/jobs/view/4099353940/...  "
      ]
     },
     "execution_count": 15,
     "metadata": {},
     "output_type": "execute_result"
    }
   ],
   "source": [
    "# delete regex character\n",
    "job['job_description'] = job['job_description'].str.replace(r'[\\n\\t\\r\\xa0]', ' ', regex=True)\n",
    "\n",
    "# remove double space\n",
    "job['job_description'] = job['job_description'].str.replace('  ', ' ')\n",
    "\n",
    "# remve white space\n",
    "job = job.applymap(lambda x: x.strip() if isinstance(x, str) else x)\n",
    "\n",
    "# check\n",
    "job.head()"
   ]
  },
  {
   "cell_type": "markdown",
   "metadata": {},
   "source": [
    "### Cardinality Hanldling"
   ]
  },
  {
   "cell_type": "code",
   "execution_count": 16,
   "metadata": {},
   "outputs": [
    {
     "data": {
      "text/plain": [
       "array(['Yogyakarta', 'Jakarta', 'Bali', 'Indonesia ', 'Batam', 'Bandung',\n",
       "       'Padang', 'Sukabumi', 'Semarang', 'Depok', 'Malang', 'Tangerang',\n",
       "       'APAC ', 'Surabaya', 'Surakarta', 'Banten, Indonesia ',\n",
       "       'South Sulawesi, Indonesia ', 'Cikarang', 'Bogor', 'Cimahi',\n",
       "       'Demak', 'Sumbawa', 'Bengkulu', 'Mojosari', 'Jawa Barat', 'Bekasi',\n",
       "       'Kosambi', 'Legok', 'Pekanbaru, Riau', 'Karawaci', 'Medan',\n",
       "       'Palembang', 'Jawa Timur', 'Banjarmasin', 'Makassar', 'Indonesia'],\n",
       "      dtype=object)"
      ]
     },
     "execution_count": 16,
     "metadata": {},
     "output_type": "execute_result"
    }
   ],
   "source": [
    "# cities list\n",
    "cities = [\n",
    "    'Jakarta', 'Bali', 'Bandung', 'Surabaya', 'Tangerang', 'Makassar',\n",
    "    'Yogyakarta', 'Semarang', 'Batam', 'Padang', 'Sukabumi', 'Depok',\n",
    "    'Malang', 'Surakarta', 'Bekasi', 'Cikarang', 'Bogor', 'Cimahi',\n",
    "    'Demak', 'Sumbawa', 'Mojosari', 'Kosambi', 'Legok', 'Pekan Baru',\n",
    "    'Karawaci', 'Medan', 'Palembang', 'Banjarmasin'\n",
    "]\n",
    "\n",
    "# regroup city\n",
    "for city in cities:\n",
    "    job['location'] = np.where(job['location'].str.contains(city, case=False), city, job['location'])\n",
    "\n",
    "# remove \"(Remote)\", \"(On-site)\", \"(Hybrid)\"\n",
    "job['location'] = job['location'].str.replace(r'\\(.*?\\)', '', regex=True)\n",
    "\n",
    "# check\n",
    "job['location'].unique()"
   ]
  },
  {
   "cell_type": "markdown",
   "metadata": {},
   "source": [
    "## Feature Creation"
   ]
  },
  {
   "cell_type": "code",
   "execution_count": 17,
   "metadata": {},
   "outputs": [
    {
     "data": {
      "text/html": [
       "<div>\n",
       "<style scoped>\n",
       "    .dataframe tbody tr th:only-of-type {\n",
       "        vertical-align: middle;\n",
       "    }\n",
       "\n",
       "    .dataframe tbody tr th {\n",
       "        vertical-align: top;\n",
       "    }\n",
       "\n",
       "    .dataframe thead th {\n",
       "        text-align: right;\n",
       "    }\n",
       "</style>\n",
       "<table border=\"1\" class=\"dataframe\">\n",
       "  <thead>\n",
       "    <tr style=\"text-align: right;\">\n",
       "      <th></th>\n",
       "      <th>job_title</th>\n",
       "      <th>company_name</th>\n",
       "      <th>location</th>\n",
       "      <th>job_description</th>\n",
       "      <th>job_link</th>\n",
       "      <th>skills</th>\n",
       "    </tr>\n",
       "  </thead>\n",
       "  <tbody>\n",
       "    <tr>\n",
       "      <th>608</th>\n",
       "      <td>Data Steward</td>\n",
       "      <td>Snaphunt</td>\n",
       "      <td>Jakarta</td>\n",
       "      <td>The OfferOpportunity within a company with a s...</td>\n",
       "      <td>https://www.jobstreet.co.id/id/job/80523821?ty...</td>\n",
       "      <td>[Communication]</td>\n",
       "    </tr>\n",
       "    <tr>\n",
       "      <th>265</th>\n",
       "      <td>Apprenticeship - Actuarial Pricing</td>\n",
       "      <td>Prudential Indonesia (PT Prudential Life Assur...</td>\n",
       "      <td>Jakarta</td>\n",
       "      <td>Prudential’s purpose is to be partners for eve...</td>\n",
       "      <td>https://www.linkedin.com/jobs/view/4093140004/...</td>\n",
       "      <td>[Statistics]</td>\n",
       "    </tr>\n",
       "    <tr>\n",
       "      <th>352</th>\n",
       "      <td>Market Conduct Specialist</td>\n",
       "      <td>Sun Life</td>\n",
       "      <td>Jakarta</td>\n",
       "      <td>You are as unique as your background, experien...</td>\n",
       "      <td>https://www.linkedin.com/jobs/view/3972892606/...</td>\n",
       "      <td>[Communication]</td>\n",
       "    </tr>\n",
       "    <tr>\n",
       "      <th>36</th>\n",
       "      <td>SAP Finance Control Consultant</td>\n",
       "      <td>Glints</td>\n",
       "      <td>Batam</td>\n",
       "      <td>We are currently helping a Manufacturing compa...</td>\n",
       "      <td>https://www.linkedin.com/jobs/view/4099384474/...</td>\n",
       "      <td>[Communication]</td>\n",
       "    </tr>\n",
       "    <tr>\n",
       "      <th>140</th>\n",
       "      <td>Principal Software Engineer – (MLOPs) Machine ...</td>\n",
       "      <td>Agoda</td>\n",
       "      <td>Bali</td>\n",
       "      <td>About Agoda Agoda is an online travel booking ...</td>\n",
       "      <td>https://www.linkedin.com/jobs/view/4021551938/...</td>\n",
       "      <td>[Python, Scala, Spark, Airflow, Machine Learni...</td>\n",
       "    </tr>\n",
       "  </tbody>\n",
       "</table>\n",
       "</div>"
      ],
      "text/plain": [
       "                                             job_title  \\\n",
       "608                                       Data Steward   \n",
       "265                 Apprenticeship - Actuarial Pricing   \n",
       "352                          Market Conduct Specialist   \n",
       "36                      SAP Finance Control Consultant   \n",
       "140  Principal Software Engineer – (MLOPs) Machine ...   \n",
       "\n",
       "                                          company_name location  \\\n",
       "608                                           Snaphunt  Jakarta   \n",
       "265  Prudential Indonesia (PT Prudential Life Assur...  Jakarta   \n",
       "352                                           Sun Life  Jakarta   \n",
       "36                                              Glints    Batam   \n",
       "140                                              Agoda     Bali   \n",
       "\n",
       "                                       job_description  \\\n",
       "608  The OfferOpportunity within a company with a s...   \n",
       "265  Prudential’s purpose is to be partners for eve...   \n",
       "352  You are as unique as your background, experien...   \n",
       "36   We are currently helping a Manufacturing compa...   \n",
       "140  About Agoda Agoda is an online travel booking ...   \n",
       "\n",
       "                                              job_link  \\\n",
       "608  https://www.jobstreet.co.id/id/job/80523821?ty...   \n",
       "265  https://www.linkedin.com/jobs/view/4093140004/...   \n",
       "352  https://www.linkedin.com/jobs/view/3972892606/...   \n",
       "36   https://www.linkedin.com/jobs/view/4099384474/...   \n",
       "140  https://www.linkedin.com/jobs/view/4021551938/...   \n",
       "\n",
       "                                                skills  \n",
       "608                                    [Communication]  \n",
       "265                                       [Statistics]  \n",
       "352                                    [Communication]  \n",
       "36                                     [Communication]  \n",
       "140  [Python, Scala, Spark, Airflow, Machine Learni...  "
      ]
     },
     "execution_count": 17,
     "metadata": {},
     "output_type": "execute_result"
    }
   ],
   "source": [
    "# Tambahkan kolom 'Skills' ke DataFrame\n",
    "job = add_columns(job, list_skills, column_name='skills')\n",
    "\n",
    "# check\n",
    "job.sample(5)"
   ]
  },
  {
   "cell_type": "code",
   "execution_count": 18,
   "metadata": {},
   "outputs": [
    {
     "name": "stdout",
     "output_type": "stream",
     "text": [
      "<class 'pandas.core.frame.DataFrame'>\n",
      "Index: 584 entries, 0 to 672\n",
      "Data columns (total 6 columns):\n",
      " #   Column           Non-Null Count  Dtype \n",
      "---  ------           --------------  ----- \n",
      " 0   job_title        584 non-null    object\n",
      " 1   company_name     584 non-null    object\n",
      " 2   location         584 non-null    object\n",
      " 3   job_description  584 non-null    object\n",
      " 4   job_link         584 non-null    object\n",
      " 5   skills           584 non-null    object\n",
      "dtypes: object(6)\n",
      "memory usage: 31.9+ KB\n",
      "job_link: 584\n"
     ]
    }
   ],
   "source": [
    "# cleaned df overview\n",
    "job.info()\n",
    "print('job_link:',job['job_link'].nunique())"
   ]
  },
  {
   "cell_type": "markdown",
   "metadata": {},
   "source": [
    "# Save Cleaned Data"
   ]
  },
  {
   "cell_type": "code",
   "execution_count": 19,
   "metadata": {},
   "outputs": [],
   "source": [
    "# save to csv\n",
    "job.to_csv('job_data.csv', index=False)"
   ]
  }
 ],
 "metadata": {
  "kernelspec": {
   "display_name": "base",
   "language": "python",
   "name": "python3"
  },
  "language_info": {
   "codemirror_mode": {
    "name": "ipython",
    "version": 3
   },
   "file_extension": ".py",
   "mimetype": "text/x-python",
   "name": "python",
   "nbconvert_exporter": "python",
   "pygments_lexer": "ipython3",
   "version": "3.12.4"
  }
 },
 "nbformat": 4,
 "nbformat_minor": 2
}
