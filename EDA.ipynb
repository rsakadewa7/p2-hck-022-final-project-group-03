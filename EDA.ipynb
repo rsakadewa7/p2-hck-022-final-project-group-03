{
 "cells": [
  {
   "cell_type": "markdown",
   "metadata": {
    "vscode": {
     "languageId": "plaintext"
    }
   },
   "source": [
    "# Import Library"
   ]
  },
  {
   "cell_type": "code",
   "execution_count": 13,
   "metadata": {},
   "outputs": [],
   "source": [
    "# data manipulation\n",
    "import pandas as pd\n",
    "import numpy as np\n",
    "\n",
    "# data viz\n",
    "import matplotlib.pyplot as plt\n",
    "import seaborn as sns"
   ]
  },
  {
   "cell_type": "markdown",
   "metadata": {},
   "source": [
    "# Load Data"
   ]
  },
  {
   "cell_type": "code",
   "execution_count": 14,
   "metadata": {},
   "outputs": [
    {
     "data": {
      "text/html": [
       "<div>\n",
       "<style scoped>\n",
       "    .dataframe tbody tr th:only-of-type {\n",
       "        vertical-align: middle;\n",
       "    }\n",
       "\n",
       "    .dataframe tbody tr th {\n",
       "        vertical-align: top;\n",
       "    }\n",
       "\n",
       "    .dataframe thead th {\n",
       "        text-align: right;\n",
       "    }\n",
       "</style>\n",
       "<table border=\"1\" class=\"dataframe\">\n",
       "  <thead>\n",
       "    <tr style=\"text-align: right;\">\n",
       "      <th></th>\n",
       "      <th>job_title</th>\n",
       "      <th>company_name</th>\n",
       "      <th>location</th>\n",
       "      <th>job_description</th>\n",
       "      <th>job_link</th>\n",
       "      <th>skills</th>\n",
       "    </tr>\n",
       "  </thead>\n",
       "  <tbody>\n",
       "    <tr>\n",
       "      <th>0</th>\n",
       "      <td>System Analyst</td>\n",
       "      <td>TOG Indonesia</td>\n",
       "      <td>Yogyakarta</td>\n",
       "      <td>Responsibilities Deploy, maintain, and trouble...</td>\n",
       "      <td>https://www.linkedin.com/jobs/view/4076765593/...</td>\n",
       "      <td>['Statistics', 'Communication']</td>\n",
       "    </tr>\n",
       "    <tr>\n",
       "      <th>1</th>\n",
       "      <td>Data Analyst</td>\n",
       "      <td>TUKR</td>\n",
       "      <td>Jakarta</td>\n",
       "      <td>TUKR is a rapidly expanding renewable commodit...</td>\n",
       "      <td>https://www.linkedin.com/jobs/view/4080741810/...</td>\n",
       "      <td>['ERP']</td>\n",
       "    </tr>\n",
       "    <tr>\n",
       "      <th>2</th>\n",
       "      <td>Supply Chain Supervisor</td>\n",
       "      <td>SEVEN Retail Group</td>\n",
       "      <td>Jakarta</td>\n",
       "      <td>Job Responsibility: Create the company's suppl...</td>\n",
       "      <td>https://www.linkedin.com/jobs/view/4089476927/...</td>\n",
       "      <td>['Project Management', 'Problem Solving']</td>\n",
       "    </tr>\n",
       "    <tr>\n",
       "      <th>3</th>\n",
       "      <td>Data Scientist</td>\n",
       "      <td>Provenir</td>\n",
       "      <td>Jakarta</td>\n",
       "      <td>Who We Are  Provenir is a global fintech compa...</td>\n",
       "      <td>https://www.linkedin.com/jobs/view/4076157340/...</td>\n",
       "      <td>['Python', 'Machine Learning', 'scikit-learn',...</td>\n",
       "    </tr>\n",
       "    <tr>\n",
       "      <th>4</th>\n",
       "      <td>Head of Product (Data)</td>\n",
       "      <td>HTC Global Services</td>\n",
       "      <td>Jakarta</td>\n",
       "      <td>Formal Education and Work Experience : Bachelo...</td>\n",
       "      <td>https://www.linkedin.com/jobs/view/4099353940/...</td>\n",
       "      <td>['Kanban', 'Communication', 'Collaboration']</td>\n",
       "    </tr>\n",
       "  </tbody>\n",
       "</table>\n",
       "</div>"
      ],
      "text/plain": [
       "                 job_title         company_name    location  \\\n",
       "0           System Analyst        TOG Indonesia  Yogyakarta   \n",
       "1             Data Analyst                 TUKR     Jakarta   \n",
       "2  Supply Chain Supervisor   SEVEN Retail Group     Jakarta   \n",
       "3           Data Scientist             Provenir     Jakarta   \n",
       "4   Head of Product (Data)  HTC Global Services     Jakarta   \n",
       "\n",
       "                                     job_description  \\\n",
       "0  Responsibilities Deploy, maintain, and trouble...   \n",
       "1  TUKR is a rapidly expanding renewable commodit...   \n",
       "2  Job Responsibility: Create the company's suppl...   \n",
       "3  Who We Are  Provenir is a global fintech compa...   \n",
       "4  Formal Education and Work Experience : Bachelo...   \n",
       "\n",
       "                                            job_link  \\\n",
       "0  https://www.linkedin.com/jobs/view/4076765593/...   \n",
       "1  https://www.linkedin.com/jobs/view/4080741810/...   \n",
       "2  https://www.linkedin.com/jobs/view/4089476927/...   \n",
       "3  https://www.linkedin.com/jobs/view/4076157340/...   \n",
       "4  https://www.linkedin.com/jobs/view/4099353940/...   \n",
       "\n",
       "                                              skills  \n",
       "0                    ['Statistics', 'Communication']  \n",
       "1                                            ['ERP']  \n",
       "2          ['Project Management', 'Problem Solving']  \n",
       "3  ['Python', 'Machine Learning', 'scikit-learn',...  \n",
       "4       ['Kanban', 'Communication', 'Collaboration']  "
      ]
     },
     "execution_count": 14,
     "metadata": {},
     "output_type": "execute_result"
    }
   ],
   "source": [
    "# load data\n",
    "df = pd.read_csv('job_data.csv')\n",
    "\n",
    "# check\n",
    "df.head()"
   ]
  },
  {
   "cell_type": "markdown",
   "metadata": {},
   "source": [
    "# EDA"
   ]
  },
  {
   "cell_type": "markdown",
   "metadata": {},
   "source": [
    "## Top 5 Location"
   ]
  },
  {
   "cell_type": "code",
   "execution_count": 22,
   "metadata": {},
   "outputs": [
    {
     "name": "stderr",
     "output_type": "stream",
     "text": [
      "C:\\Users\\Fadhiil Dzaki\\AppData\\Local\\Temp\\ipykernel_23708\\2163705717.py:4: FutureWarning: \n",
      "\n",
      "Passing `palette` without assigning `hue` is deprecated and will be removed in v0.14.0. Assign the `x` variable to `hue` and set `legend=False` for the same effect.\n",
      "\n",
      "  ax=sns.countplot(data=df, x='location', order=top_5_location.index, palette='pastel')\n"
     ]
    },
    {
     "data": {
      "image/png": "[encoded data removed]",
      "text/plain": [
       "<Figure size 1000x600 with 1 Axes>"
      ]
     },
     "metadata": {},
     "output_type": "display_data"
    }
   ],
   "source": [
    "top_5_location = df['location'].value_counts().head()\n",
    "\n",
    "plt.figure(figsize=(10, 6)) \n",
    "ax=sns.countplot(data=df, x='location', order=top_5_location.index, palette='pastel') \n",
    "plt.title('Top 5 Job Locations') \n",
    "\n",
    "for p in ax.patches: \n",
    "    height = p.get_height() \n",
    "    ax.annotate(f'{int(height)}', (p.get_x() + p.get_width() / 2., height), ha='center', va='center', xytext=(0, 10), textcoords='offset points')"
   ]
  }
 ],
 "metadata": {
  "kernelspec": {
   "display_name": "base",
   "language": "python",
   "name": "python3"
  },
  "language_info": {
   "codemirror_mode": {
    "name": "ipython",
    "version": 3
   },
   "file_extension": ".py",
   "mimetype": "text/x-python",
   "name": "python",
   "nbconvert_exporter": "python",
   "pygments_lexer": "ipython3",
   "version": "3.12.4"
  }
 },
 "nbformat": 4,
 "nbformat_minor": 2
}
